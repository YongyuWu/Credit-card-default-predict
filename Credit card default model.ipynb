{
 "cells": [
  {
   "cell_type": "code",
   "execution_count": 5,
   "metadata": {},
   "outputs": [],
   "source": [
    "import pandas as pd\n",
    "import numpy as np"
   ]
  },
  {
   "cell_type": "code",
   "execution_count": 6,
   "metadata": {},
   "outputs": [],
   "source": [
    "df = pd.read_csv('Credit Card Default II (balance).csv')"
   ]
  },
  {
   "cell_type": "code",
   "execution_count": 7,
   "metadata": {},
   "outputs": [
    {
     "data": {
      "text/html": [
       "<div>\n",
       "<style scoped>\n",
       "    .dataframe tbody tr th:only-of-type {\n",
       "        vertical-align: middle;\n",
       "    }\n",
       "\n",
       "    .dataframe tbody tr th {\n",
       "        vertical-align: top;\n",
       "    }\n",
       "\n",
       "    .dataframe thead th {\n",
       "        text-align: right;\n",
       "    }\n",
       "</style>\n",
       "<table border=\"1\" class=\"dataframe\">\n",
       "  <thead>\n",
       "    <tr style=\"text-align: right;\">\n",
       "      <th></th>\n",
       "      <th>income</th>\n",
       "      <th>age</th>\n",
       "      <th>loan</th>\n",
       "      <th>default</th>\n",
       "    </tr>\n",
       "  </thead>\n",
       "  <tbody>\n",
       "    <tr>\n",
       "      <th>0</th>\n",
       "      <td>66155.925100</td>\n",
       "      <td>59.017015</td>\n",
       "      <td>8106.532131</td>\n",
       "      <td>0</td>\n",
       "    </tr>\n",
       "    <tr>\n",
       "      <th>1</th>\n",
       "      <td>34415.153970</td>\n",
       "      <td>48.117153</td>\n",
       "      <td>6564.745018</td>\n",
       "      <td>0</td>\n",
       "    </tr>\n",
       "    <tr>\n",
       "      <th>2</th>\n",
       "      <td>57317.170060</td>\n",
       "      <td>63.108049</td>\n",
       "      <td>8020.953296</td>\n",
       "      <td>0</td>\n",
       "    </tr>\n",
       "    <tr>\n",
       "      <th>3</th>\n",
       "      <td>42709.534200</td>\n",
       "      <td>45.751972</td>\n",
       "      <td>6103.642260</td>\n",
       "      <td>0</td>\n",
       "    </tr>\n",
       "    <tr>\n",
       "      <th>4</th>\n",
       "      <td>66952.688850</td>\n",
       "      <td>18.584336</td>\n",
       "      <td>8770.099235</td>\n",
       "      <td>1</td>\n",
       "    </tr>\n",
       "    <tr>\n",
       "      <th>...</th>\n",
       "      <td>...</td>\n",
       "      <td>...</td>\n",
       "      <td>...</td>\n",
       "      <td>...</td>\n",
       "    </tr>\n",
       "    <tr>\n",
       "      <th>3423</th>\n",
       "      <td>60903.191726</td>\n",
       "      <td>21.933924</td>\n",
       "      <td>10367.081892</td>\n",
       "      <td>1</td>\n",
       "    </tr>\n",
       "    <tr>\n",
       "      <th>3424</th>\n",
       "      <td>62235.644695</td>\n",
       "      <td>25.033016</td>\n",
       "      <td>8083.900063</td>\n",
       "      <td>1</td>\n",
       "    </tr>\n",
       "    <tr>\n",
       "      <th>3425</th>\n",
       "      <td>25597.850590</td>\n",
       "      <td>26.350344</td>\n",
       "      <td>3810.110335</td>\n",
       "      <td>1</td>\n",
       "    </tr>\n",
       "    <tr>\n",
       "      <th>3426</th>\n",
       "      <td>48164.194974</td>\n",
       "      <td>23.141976</td>\n",
       "      <td>6529.652892</td>\n",
       "      <td>1</td>\n",
       "    </tr>\n",
       "    <tr>\n",
       "      <th>3427</th>\n",
       "      <td>33055.808635</td>\n",
       "      <td>26.289612</td>\n",
       "      <td>5351.851138</td>\n",
       "      <td>1</td>\n",
       "    </tr>\n",
       "  </tbody>\n",
       "</table>\n",
       "<p>3428 rows × 4 columns</p>\n",
       "</div>"
      ],
      "text/plain": [
       "            income        age          loan  default\n",
       "0     66155.925100  59.017015   8106.532131        0\n",
       "1     34415.153970  48.117153   6564.745018        0\n",
       "2     57317.170060  63.108049   8020.953296        0\n",
       "3     42709.534200  45.751972   6103.642260        0\n",
       "4     66952.688850  18.584336   8770.099235        1\n",
       "...            ...        ...           ...      ...\n",
       "3423  60903.191726  21.933924  10367.081892        1\n",
       "3424  62235.644695  25.033016   8083.900063        1\n",
       "3425  25597.850590  26.350344   3810.110335        1\n",
       "3426  48164.194974  23.141976   6529.652892        1\n",
       "3427  33055.808635  26.289612   5351.851138        1\n",
       "\n",
       "[3428 rows x 4 columns]"
      ]
     },
     "execution_count": 7,
     "metadata": {},
     "output_type": "execute_result"
    }
   ],
   "source": [
    "df"
   ]
  },
  {
   "cell_type": "code",
   "execution_count": 8,
   "metadata": {},
   "outputs": [
    {
     "data": {
      "text/html": [
       "<div>\n",
       "<style scoped>\n",
       "    .dataframe tbody tr th:only-of-type {\n",
       "        vertical-align: middle;\n",
       "    }\n",
       "\n",
       "    .dataframe tbody tr th {\n",
       "        vertical-align: top;\n",
       "    }\n",
       "\n",
       "    .dataframe thead th {\n",
       "        text-align: right;\n",
       "    }\n",
       "</style>\n",
       "<table border=\"1\" class=\"dataframe\">\n",
       "  <thead>\n",
       "    <tr style=\"text-align: right;\">\n",
       "      <th></th>\n",
       "      <th>income</th>\n",
       "      <th>age</th>\n",
       "      <th>loan</th>\n",
       "      <th>default</th>\n",
       "    </tr>\n",
       "  </thead>\n",
       "  <tbody>\n",
       "    <tr>\n",
       "      <th>count</th>\n",
       "      <td>3428.000000</td>\n",
       "      <td>3428.000000</td>\n",
       "      <td>3428.000000</td>\n",
       "      <td>3428.000000</td>\n",
       "    </tr>\n",
       "    <tr>\n",
       "      <th>mean</th>\n",
       "      <td>45136.875975</td>\n",
       "      <td>34.795950</td>\n",
       "      <td>5591.986695</td>\n",
       "      <td>0.500000</td>\n",
       "    </tr>\n",
       "    <tr>\n",
       "      <th>std</th>\n",
       "      <td>14425.486619</td>\n",
       "      <td>12.840055</td>\n",
       "      <td>3174.522430</td>\n",
       "      <td>0.500073</td>\n",
       "    </tr>\n",
       "    <tr>\n",
       "      <th>min</th>\n",
       "      <td>20014.489470</td>\n",
       "      <td>-52.423280</td>\n",
       "      <td>1.377630</td>\n",
       "      <td>0.000000</td>\n",
       "    </tr>\n",
       "    <tr>\n",
       "      <th>25%</th>\n",
       "      <td>32827.211177</td>\n",
       "      <td>25.171939</td>\n",
       "      <td>3103.357467</td>\n",
       "      <td>0.000000</td>\n",
       "    </tr>\n",
       "    <tr>\n",
       "      <th>50%</th>\n",
       "      <td>45546.632873</td>\n",
       "      <td>30.086842</td>\n",
       "      <td>5540.305046</td>\n",
       "      <td>0.500000</td>\n",
       "    </tr>\n",
       "    <tr>\n",
       "      <th>75%</th>\n",
       "      <td>57514.794130</td>\n",
       "      <td>44.369461</td>\n",
       "      <td>7809.377943</td>\n",
       "      <td>1.000000</td>\n",
       "    </tr>\n",
       "    <tr>\n",
       "      <th>max</th>\n",
       "      <td>69995.685580</td>\n",
       "      <td>63.971796</td>\n",
       "      <td>13766.051240</td>\n",
       "      <td>1.000000</td>\n",
       "    </tr>\n",
       "  </tbody>\n",
       "</table>\n",
       "</div>"
      ],
      "text/plain": [
       "             income          age          loan      default\n",
       "count   3428.000000  3428.000000   3428.000000  3428.000000\n",
       "mean   45136.875975    34.795950   5591.986695     0.500000\n",
       "std    14425.486619    12.840055   3174.522430     0.500073\n",
       "min    20014.489470   -52.423280      1.377630     0.000000\n",
       "25%    32827.211177    25.171939   3103.357467     0.000000\n",
       "50%    45546.632873    30.086842   5540.305046     0.500000\n",
       "75%    57514.794130    44.369461   7809.377943     1.000000\n",
       "max    69995.685580    63.971796  13766.051240     1.000000"
      ]
     },
     "execution_count": 8,
     "metadata": {},
     "output_type": "execute_result"
    }
   ],
   "source": [
    "df.describe()\n",
    "#all x variables are continuous variables "
   ]
  },
  {
   "cell_type": "code",
   "execution_count": 9,
   "metadata": {},
   "outputs": [
    {
     "data": {
      "text/plain": [
       "income     0\n",
       "age        0\n",
       "loan       0\n",
       "default    0\n",
       "dtype: int64"
      ]
     },
     "execution_count": 9,
     "metadata": {},
     "output_type": "execute_result"
    }
   ],
   "source": [
    "df.isnull().sum()\n",
    "# no null values "
   ]
  },
  {
   "cell_type": "code",
   "execution_count": 10,
   "metadata": {},
   "outputs": [
    {
     "data": {
      "text/plain": [
       "income     0\n",
       "age        0\n",
       "loan       0\n",
       "default    0\n",
       "dtype: int64"
      ]
     },
     "execution_count": 10,
     "metadata": {},
     "output_type": "execute_result"
    }
   ],
   "source": [
    "df.isna().sum()\n",
    "# no NA values"
   ]
  },
  {
   "cell_type": "code",
   "execution_count": 11,
   "metadata": {},
   "outputs": [
    {
     "data": {
      "text/plain": [
       "0"
      ]
     },
     "execution_count": 11,
     "metadata": {},
     "output_type": "execute_result"
    }
   ],
   "source": [
    "df.duplicated().sum()\n",
    "#no duplicates"
   ]
  },
  {
   "cell_type": "code",
   "execution_count": 12,
   "metadata": {},
   "outputs": [
    {
     "name": "stdout",
     "output_type": "stream",
     "text": [
      "1714\n"
     ]
    }
   ],
   "source": [
    "print(df[df.default==0].shape[0])\n",
    "#no umbalanced data observed"
   ]
  },
  {
   "cell_type": "code",
   "execution_count": 13,
   "metadata": {},
   "outputs": [
    {
     "data": {
      "text/plain": [
       "<matplotlib.axes._subplots.AxesSubplot at 0x235f498c3c8>"
      ]
     },
     "execution_count": 13,
     "metadata": {},
     "output_type": "execute_result"
    },
    {
     "data": {
      "image/png": "[encoded data removed]",
      "text/plain": [
       "<Figure size 432x288 with 1 Axes>"
      ]
     },
     "metadata": {
      "needs_background": "light"
     },
     "output_type": "display_data"
    }
   ],
   "source": [
    "df.boxplot()\n",
    "#no outliers observed "
   ]
  },
  {
   "cell_type": "code",
   "execution_count": 14,
   "metadata": {},
   "outputs": [
    {
     "name": "stdout",
     "output_type": "stream",
     "text": [
      "0\n",
      "3\n",
      "0\n",
      "0\n"
     ]
    }
   ],
   "source": [
    "print(sum(df['income']<0))\n",
    "print(sum(df['age']<0))\n",
    "print(sum(df['loan']<0))\n",
    "print(sum(df['default']<0))"
   ]
  },
  {
   "cell_type": "code",
   "execution_count": 15,
   "metadata": {},
   "outputs": [],
   "source": [
    "df = df.drop(df[df.age < 0].index)\n",
    "#remove age less than 0 values as we assume them to be illogical data"
   ]
  },
  {
   "cell_type": "code",
   "execution_count": 16,
   "metadata": {},
   "outputs": [
    {
     "data": {
      "text/html": [
       "<div>\n",
       "<style scoped>\n",
       "    .dataframe tbody tr th:only-of-type {\n",
       "        vertical-align: middle;\n",
       "    }\n",
       "\n",
       "    .dataframe tbody tr th {\n",
       "        vertical-align: top;\n",
       "    }\n",
       "\n",
       "    .dataframe thead th {\n",
       "        text-align: right;\n",
       "    }\n",
       "</style>\n",
       "<table border=\"1\" class=\"dataframe\">\n",
       "  <thead>\n",
       "    <tr style=\"text-align: right;\">\n",
       "      <th></th>\n",
       "      <th>income</th>\n",
       "      <th>age</th>\n",
       "      <th>loan</th>\n",
       "      <th>default</th>\n",
       "    </tr>\n",
       "  </thead>\n",
       "  <tbody>\n",
       "    <tr>\n",
       "      <th>0</th>\n",
       "      <td>66155.925100</td>\n",
       "      <td>59.017015</td>\n",
       "      <td>8106.532131</td>\n",
       "      <td>0</td>\n",
       "    </tr>\n",
       "    <tr>\n",
       "      <th>1</th>\n",
       "      <td>34415.153970</td>\n",
       "      <td>48.117153</td>\n",
       "      <td>6564.745018</td>\n",
       "      <td>0</td>\n",
       "    </tr>\n",
       "    <tr>\n",
       "      <th>2</th>\n",
       "      <td>57317.170060</td>\n",
       "      <td>63.108049</td>\n",
       "      <td>8020.953296</td>\n",
       "      <td>0</td>\n",
       "    </tr>\n",
       "    <tr>\n",
       "      <th>3</th>\n",
       "      <td>42709.534200</td>\n",
       "      <td>45.751972</td>\n",
       "      <td>6103.642260</td>\n",
       "      <td>0</td>\n",
       "    </tr>\n",
       "    <tr>\n",
       "      <th>4</th>\n",
       "      <td>66952.688850</td>\n",
       "      <td>18.584336</td>\n",
       "      <td>8770.099235</td>\n",
       "      <td>1</td>\n",
       "    </tr>\n",
       "    <tr>\n",
       "      <th>...</th>\n",
       "      <td>...</td>\n",
       "      <td>...</td>\n",
       "      <td>...</td>\n",
       "      <td>...</td>\n",
       "    </tr>\n",
       "    <tr>\n",
       "      <th>3423</th>\n",
       "      <td>60903.191726</td>\n",
       "      <td>21.933924</td>\n",
       "      <td>10367.081892</td>\n",
       "      <td>1</td>\n",
       "    </tr>\n",
       "    <tr>\n",
       "      <th>3424</th>\n",
       "      <td>62235.644695</td>\n",
       "      <td>25.033016</td>\n",
       "      <td>8083.900063</td>\n",
       "      <td>1</td>\n",
       "    </tr>\n",
       "    <tr>\n",
       "      <th>3425</th>\n",
       "      <td>25597.850590</td>\n",
       "      <td>26.350344</td>\n",
       "      <td>3810.110335</td>\n",
       "      <td>1</td>\n",
       "    </tr>\n",
       "    <tr>\n",
       "      <th>3426</th>\n",
       "      <td>48164.194974</td>\n",
       "      <td>23.141976</td>\n",
       "      <td>6529.652892</td>\n",
       "      <td>1</td>\n",
       "    </tr>\n",
       "    <tr>\n",
       "      <th>3427</th>\n",
       "      <td>33055.808635</td>\n",
       "      <td>26.289612</td>\n",
       "      <td>5351.851138</td>\n",
       "      <td>1</td>\n",
       "    </tr>\n",
       "  </tbody>\n",
       "</table>\n",
       "<p>3425 rows × 4 columns</p>\n",
       "</div>"
      ],
      "text/plain": [
       "            income        age          loan  default\n",
       "0     66155.925100  59.017015   8106.532131        0\n",
       "1     34415.153970  48.117153   6564.745018        0\n",
       "2     57317.170060  63.108049   8020.953296        0\n",
       "3     42709.534200  45.751972   6103.642260        0\n",
       "4     66952.688850  18.584336   8770.099235        1\n",
       "...            ...        ...           ...      ...\n",
       "3423  60903.191726  21.933924  10367.081892        1\n",
       "3424  62235.644695  25.033016   8083.900063        1\n",
       "3425  25597.850590  26.350344   3810.110335        1\n",
       "3426  48164.194974  23.141976   6529.652892        1\n",
       "3427  33055.808635  26.289612   5351.851138        1\n",
       "\n",
       "[3425 rows x 4 columns]"
      ]
     },
     "execution_count": 16,
     "metadata": {},
     "output_type": "execute_result"
    }
   ],
   "source": [
    "df"
   ]
  },
  {
   "cell_type": "code",
   "execution_count": 17,
   "metadata": {},
   "outputs": [],
   "source": [
    "import matplotlib.pyplot as plt"
   ]
  },
  {
   "cell_type": "code",
   "execution_count": 18,
   "metadata": {},
   "outputs": [
    {
     "data": {
      "text/plain": [
       "<matplotlib.axes._subplots.AxesSubplot at 0x235f6711a48>"
      ]
     },
     "execution_count": 18,
     "metadata": {},
     "output_type": "execute_result"
    },
    {
     "data": {
      "image/png": "[encoded data removed]",
      "text/plain": [
       "<Figure size 432x288 with 2 Axes>"
      ]
     },
     "metadata": {
      "needs_background": "light"
     },
     "output_type": "display_data"
    }
   ],
   "source": [
    "import seaborn as sns\n",
    "sns.heatmap(df.corr())\n"
   ]
  },
  {
   "cell_type": "markdown",
   "metadata": {},
   "source": [
    "# train test split"
   ]
  },
  {
   "cell_type": "code",
   "execution_count": 19,
   "metadata": {},
   "outputs": [],
   "source": [
    "import random\n",
    "random.seed(100)"
   ]
  },
  {
   "cell_type": "code",
   "execution_count": 20,
   "metadata": {},
   "outputs": [],
   "source": [
    "y = df.loc[:, [\"default\"]]"
   ]
  },
  {
   "cell_type": "code",
   "execution_count": 21,
   "metadata": {},
   "outputs": [],
   "source": [
    "x = df.iloc[:, 0:3]"
   ]
  },
  {
   "cell_type": "code",
   "execution_count": 22,
   "metadata": {},
   "outputs": [
    {
     "name": "stdout",
     "output_type": "stream",
     "text": [
      "        income       age      loan\n",
      "0     1.457403  1.909165  0.792201\n",
      "1    -0.743092  1.047710  0.306524\n",
      "2     0.844638  2.232494  0.765243\n",
      "3    -0.168066  0.860782  0.161272\n",
      "4     1.512641 -1.286373  1.001231\n",
      "...        ...       ...       ...\n",
      "3423  1.093247 -1.021644  1.504295\n",
      "3424  1.185622 -0.776711  0.785072\n",
      "3425 -1.354369 -0.672598 -0.561212\n",
      "3426  0.210089 -0.926167  0.295469\n",
      "3427 -0.837331 -0.677398 -0.075549\n",
      "\n",
      "[3425 rows x 3 columns]\n"
     ]
    }
   ],
   "source": [
    "#Normalisation\n",
    "from scipy import stats\n",
    "x[\"income\"]=stats.zscore(x[\"income\"].astype(np.float))\n",
    "x[\"age\"]=stats.zscore(x[\"age\"].astype(np.float))\n",
    "x[\"loan\"]=stats.zscore(x[\"loan\"].astype(np.float))\n",
    "print(x)\n"
   ]
  },
  {
   "cell_type": "code",
   "execution_count": 23,
   "metadata": {
    "scrolled": true
   },
   "outputs": [
    {
     "name": "stdout",
     "output_type": "stream",
     "text": [
      "        income       age      loan\n",
      "1927 -0.061875 -1.175868  0.989601\n",
      "2757 -0.036166 -0.372026  0.142510\n",
      "614  -0.817702  0.927687 -0.838502\n",
      "2846  0.873758 -1.017167  1.587021\n",
      "1253 -0.111291  1.978321 -1.048023\n",
      "...        ...       ...       ...\n",
      "1108 -0.719183 -0.047446 -1.752334\n",
      "3055 -0.697586 -0.723544  0.390180\n",
      "2661  0.938183 -1.050914  1.191765\n",
      "22   -1.511640  1.084052 -1.691304\n",
      "273  -1.550606  0.811094 -1.381599\n",
      "\n",
      "[2397 rows x 3 columns]         income       age      loan\n",
      "928   0.271836  1.518079 -1.414216\n",
      "962   0.539806 -1.096169  1.238014\n",
      "1091  1.206419  0.342488  1.228090\n",
      "3242  1.475690 -1.039990  1.915484\n",
      "3018  1.202902 -0.775356  0.812765\n",
      "...        ...       ...       ...\n",
      "1847 -0.603328  0.916170  0.375390\n",
      "653   0.573130  1.835243  1.520396\n",
      "449   1.283941 -0.580522  1.031607\n",
      "2897 -1.138652 -0.696998 -0.443483\n",
      "2531  0.750152 -1.020860  0.707071\n",
      "\n",
      "[1028 rows x 3 columns]       default\n",
      "1927        1\n",
      "2757        1\n",
      "614         0\n",
      "2846        1\n",
      "1253        0\n",
      "...       ...\n",
      "1108        0\n",
      "3055        1\n",
      "2661        1\n",
      "22          0\n",
      "273         0\n",
      "\n",
      "[2397 rows x 1 columns]       default\n",
      "928         0\n",
      "962         1\n",
      "1091        0\n",
      "3242        1\n",
      "3018        1\n",
      "...       ...\n",
      "1847        0\n",
      "653         0\n",
      "449         1\n",
      "2897        1\n",
      "2531        1\n",
      "\n",
      "[1028 rows x 1 columns]\n"
     ]
    }
   ],
   "source": [
    "from sklearn.model_selection import train_test_split\n",
    "\n",
    "X_train, X_test, Y_train, Y_test = train_test_split(x, y, test_size=0.3)\n",
    "print(X_train, X_test, Y_train, Y_test)"
   ]
  },
  {
   "cell_type": "markdown",
   "metadata": {},
   "source": [
    "# linear regression"
   ]
  },
  {
   "cell_type": "code",
   "execution_count": 31,
   "metadata": {},
   "outputs": [],
   "source": [
    "from sklearn import linear_model\n",
    "from sklearn.metrics import mean_squared_error"
   ]
  },
  {
   "cell_type": "code",
   "execution_count": 104,
   "metadata": {},
   "outputs": [],
   "source": [
    "model = linear_model.LogisticRegression()"
   ]
  },
  {
   "cell_type": "code",
   "execution_count": 105,
   "metadata": {},
   "outputs": [
    {
     "name": "stderr",
     "output_type": "stream",
     "text": [
      "C:\\Users\\Wu Yongyu\\anaconda3\\lib\\site-packages\\sklearn\\utils\\validation.py:760: DataConversionWarning: A column-vector y was passed when a 1d array was expected. Please change the shape of y to (n_samples, ), for example using ravel().\n",
      "  y = column_or_1d(y, warn=True)\n"
     ]
    },
    {
     "data": {
      "text/plain": [
       "LogisticRegression(C=1.0, class_weight=None, dual=False, fit_intercept=True,\n",
       "                   intercept_scaling=1, l1_ratio=None, max_iter=100,\n",
       "                   multi_class='auto', n_jobs=None, penalty='l2',\n",
       "                   random_state=None, solver='lbfgs', tol=0.0001, verbose=0,\n",
       "                   warm_start=False)"
      ]
     },
     "execution_count": 105,
     "metadata": {},
     "output_type": "execute_result"
    }
   ],
   "source": [
    "model.fit(X_train,Y_train)"
   ]
  },
  {
   "cell_type": "code",
   "execution_count": 106,
   "metadata": {},
   "outputs": [],
   "source": [
    "pred = model.predict(X_test)"
   ]
  },
  {
   "cell_type": "code",
   "execution_count": 32,
   "metadata": {},
   "outputs": [],
   "source": [
    "from sklearn.metrics import confusion_matrix"
   ]
  },
  {
   "cell_type": "code",
   "execution_count": 108,
   "metadata": {},
   "outputs": [],
   "source": [
    "cm = confusion_matrix(Y_test, pred)"
   ]
  },
  {
   "cell_type": "code",
   "execution_count": 109,
   "metadata": {},
   "outputs": [
    {
     "name": "stdout",
     "output_type": "stream",
     "text": [
      "0.9513618677042801\n"
     ]
    }
   ],
   "source": [
    "print((cm[0,0] + cm[1,1])/sum(sum(cm)))\n",
    "#0.9513618677042801"
   ]
  },
  {
   "cell_type": "code",
   "execution_count": 110,
   "metadata": {},
   "outputs": [
    {
     "data": {
      "image/png": "[encoded data removed]",
      "text/plain": [
       "<Figure size 432x288 with 1 Axes>"
      ]
     },
     "metadata": {
      "needs_background": "light"
     },
     "output_type": "display_data"
    }
   ],
   "source": [
    "## QQplot\n",
    "import statsmodels.api as sm\n",
    "from matplotlib import pyplot as plt\n",
    "data = sm.datasets.longley.load()\n",
    "exog = sm.add_constant(data.exog)\n",
    "mod_fit = sm.OLS(data.endog, exog).fit()\n",
    "res = mod_fit.resid # residuals\n",
    "fig = sm.qqplot(res)\n",
    "plt.show()\n"
   ]
  },
  {
   "cell_type": "code",
   "execution_count": 111,
   "metadata": {},
   "outputs": [
    {
     "name": "stdout",
     "output_type": "stream",
     "text": [
      "Optimization terminated successfully.\n",
      "         Current function value: 0.189963\n",
      "         Iterations 8\n",
      "                         Results: Logit\n",
      "================================================================\n",
      "Model:              Logit            Pseudo R-squared: 0.726    \n",
      "Dependent Variable: default          AIC:              1307.2456\n",
      "Date:               2022-02-25 20:16 BIC:              1325.6622\n",
      "No. Observations:   3425             Log-Likelihood:   -650.62  \n",
      "Df Model:           2                LL-Null:          -2374.0  \n",
      "Df Residuals:       3422             LLR p-value:      0.0000   \n",
      "Converged:          1.0000           Scale:            1.0000   \n",
      "No. Iterations:     8.0000                                      \n",
      "-----------------------------------------------------------------\n",
      "             Coef.   Std.Err.     z      P>|z|    [0.025   0.975]\n",
      "-----------------------------------------------------------------\n",
      "income      -2.1915    0.1135  -19.3078  0.0000  -2.4140  -1.9691\n",
      "age         -3.0841    0.1203  -25.6413  0.0000  -3.3198  -2.8483\n",
      "loan         3.7586    0.1558   24.1287  0.0000   3.4533   4.0639\n",
      "================================================================\n",
      "\n"
     ]
    }
   ],
   "source": [
    "import statsmodels.api as sm\n",
    "model=sm.Logit(y,x)\n",
    "result=model.fit()\n",
    "print(result.summary2())\n"
   ]
  },
  {
   "cell_type": "markdown",
   "metadata": {},
   "source": [
    "# Decision Tree"
   ]
  },
  {
   "cell_type": "code",
   "execution_count": 30,
   "metadata": {},
   "outputs": [],
   "source": [
    "from sklearn import tree"
   ]
  },
  {
   "cell_type": "code",
   "execution_count": 113,
   "metadata": {},
   "outputs": [],
   "source": [
    "modeltree = tree.DecisionTreeClassifier()"
   ]
  },
  {
   "cell_type": "code",
   "execution_count": 114,
   "metadata": {},
   "outputs": [
    {
     "data": {
      "text/plain": [
       "DecisionTreeClassifier(ccp_alpha=0.0, class_weight=None, criterion='gini',\n",
       "                       max_depth=None, max_features=None, max_leaf_nodes=None,\n",
       "                       min_impurity_decrease=0.0, min_impurity_split=None,\n",
       "                       min_samples_leaf=1, min_samples_split=2,\n",
       "                       min_weight_fraction_leaf=0.0, presort='deprecated',\n",
       "                       random_state=None, splitter='best')"
      ]
     },
     "execution_count": 114,
     "metadata": {},
     "output_type": "execute_result"
    }
   ],
   "source": [
    "modeltree.fit(X_train,Y_train)"
   ]
  },
  {
   "cell_type": "code",
   "execution_count": 115,
   "metadata": {},
   "outputs": [],
   "source": [
    "predtree = modeltree.predict(X_test)"
   ]
  },
  {
   "cell_type": "code",
   "execution_count": 116,
   "metadata": {},
   "outputs": [
    {
     "name": "stdout",
     "output_type": "stream",
     "text": [
      "[[505   2]\n",
      " [  4 517]]\n"
     ]
    }
   ],
   "source": [
    "cm_tree = confusion_matrix(Y_test,predtree)\n",
    "print(cm_tree)"
   ]
  },
  {
   "cell_type": "code",
   "execution_count": 117,
   "metadata": {},
   "outputs": [
    {
     "name": "stdout",
     "output_type": "stream",
     "text": [
      "0.9941634241245136\n"
     ]
    }
   ],
   "source": [
    "print((cm_tree[0,0] + cm_tree[1,1])/sum(sum(cm_tree)))"
   ]
  },
  {
   "cell_type": "code",
   "execution_count": 119,
   "metadata": {},
   "outputs": [
    {
     "name": "stdout",
     "output_type": "stream",
     "text": [
      "{'max_depth': 10}\n",
      "{'min_samples_split': 4}\n"
     ]
    }
   ],
   "source": [
    "#finding best params using grid\n",
    "import math\n",
    "from sklearn.model_selection import GridSearchCV\n",
    "\n",
    "model = tree.DecisionTreeClassifier()\n",
    "grid_maxdepth = GridSearchCV(estimator = model, param_grid = dict(max_depth = [i for i in range(1, 20)]))\n",
    "grid_results = grid_maxdepth.fit(x, y)\n",
    "print(grid_results.best_params_)\n",
    "\n",
    "grid_minsamplesplit = GridSearchCV(estimator = model, param_grid = dict( min_samples_split = [i for i in range(3, 20)]))\n",
    "grid_results = grid_minsamplesplit.fit(x, y)\n",
    "print(grid_results.best_params_)\n",
    "\n"
   ]
  },
  {
   "cell_type": "code",
   "execution_count": 145,
   "metadata": {},
   "outputs": [
    {
     "name": "stdout",
     "output_type": "stream",
     "text": [
      "[[505   2]\n",
      " [  1 520]]\n",
      "0.9970817120622568\n"
     ]
    }
   ],
   "source": [
    "#using max_depth = 10 and min_samples_split = 4\n",
    "modeltree = tree.DecisionTreeClassifier(max_depth = 10, min_samples_split = 4)\n",
    "modeltree.fit(X_train,Y_train)\n",
    "predtree = modeltree.predict(X_test)\n",
    "cm_tree = confusion_matrix(Y_test,predtree)\n",
    "print(cm_tree)\n",
    "print((cm_tree[0,0] + cm_tree[1,1])/sum(sum(cm_tree)))\n",
    "\n",
    "#0.9970817120622568"
   ]
  },
  {
   "cell_type": "code",
   "execution_count": 146,
   "metadata": {},
   "outputs": [
    {
     "data": {
      "text/plain": [
       "[Text(822.2045454545455, 516.4200000000001, 'X[1] <= -0.016\\ngini = 0.5\\nsamples = 2397\\nvalue = [1204, 1193]'),\n",
       " Text(596.0454545454546, 462.06000000000006, 'X[2] <= -0.98\\ngini = 0.339\\nsamples = 1519\\nvalue = [329, 1190]'),\n",
       " Text(562.2272727272727, 407.70000000000005, 'gini = 0.0\\nsamples = 165\\nvalue = [165, 0]'),\n",
       " Text(629.8636363636364, 407.70000000000005, 'X[2] <= 0.019\\ngini = 0.213\\nsamples = 1354\\nvalue = [164, 1190]'),\n",
       " Text(397.3636363636364, 353.34000000000003, 'X[0] <= -0.562\\ngini = 0.4\\nsamples = 482\\nvalue = [133, 349]'),\n",
       " Text(253.63636363636365, 298.98, 'X[0] <= -0.933\\ngini = 0.105\\nsamples = 343\\nvalue = [19, 324]'),\n",
       " Text(169.0909090909091, 244.62, 'X[2] <= -0.793\\ngini = 0.041\\nsamples = 287\\nvalue = [6, 281]'),\n",
       " Text(101.45454545454547, 190.26000000000005, 'X[0] <= -1.333\\ngini = 0.177\\nsamples = 51\\nvalue = [5, 46]'),\n",
       " Text(67.63636363636364, 135.90000000000003, 'X[1] <= -1.069\\ngini = 0.042\\nsamples = 47\\nvalue = [1, 46]'),\n",
       " Text(33.81818181818182, 81.54000000000002, 'gini = 0.0\\nsamples = 1\\nvalue = [1, 0]'),\n",
       " Text(101.45454545454547, 81.54000000000002, 'gini = 0.0\\nsamples = 46\\nvalue = [0, 46]'),\n",
       " Text(135.27272727272728, 135.90000000000003, 'gini = 0.0\\nsamples = 4\\nvalue = [4, 0]'),\n",
       " Text(236.72727272727275, 190.26000000000005, 'X[1] <= -1.092\\ngini = 0.008\\nsamples = 236\\nvalue = [1, 235]'),\n",
       " Text(202.90909090909093, 135.90000000000003, 'X[1] <= -1.098\\ngini = 0.117\\nsamples = 16\\nvalue = [1, 15]'),\n",
       " Text(169.0909090909091, 81.54000000000002, 'gini = 0.0\\nsamples = 15\\nvalue = [0, 15]'),\n",
       " Text(236.72727272727275, 81.54000000000002, 'gini = 0.0\\nsamples = 1\\nvalue = [1, 0]'),\n",
       " Text(270.54545454545456, 135.90000000000003, 'gini = 0.0\\nsamples = 220\\nvalue = [0, 220]'),\n",
       " Text(338.1818181818182, 244.62, 'X[2] <= -0.445\\ngini = 0.357\\nsamples = 56\\nvalue = [13, 43]'),\n",
       " Text(304.3636363636364, 190.26000000000005, 'gini = 0.0\\nsamples = 13\\nvalue = [13, 0]'),\n",
       " Text(372.0, 190.26000000000005, 'gini = 0.0\\nsamples = 43\\nvalue = [0, 43]'),\n",
       " Text(541.0909090909091, 298.98, 'X[2] <= -0.196\\ngini = 0.295\\nsamples = 139\\nvalue = [114, 25]'),\n",
       " Text(473.4545454545455, 244.62, 'X[0] <= -0.493\\ngini = 0.021\\nsamples = 94\\nvalue = [93, 1]'),\n",
       " Text(439.6363636363637, 190.26000000000005, 'X[2] <= -0.333\\ngini = 0.32\\nsamples = 5\\nvalue = [4, 1]'),\n",
       " Text(405.81818181818187, 135.90000000000003, 'gini = 0.0\\nsamples = 4\\nvalue = [4, 0]'),\n",
       " Text(473.4545454545455, 135.90000000000003, 'gini = 0.0\\nsamples = 1\\nvalue = [0, 1]'),\n",
       " Text(507.2727272727273, 190.26000000000005, 'gini = 0.0\\nsamples = 89\\nvalue = [89, 0]'),\n",
       " Text(608.7272727272727, 244.62, 'X[0] <= 0.107\\ngini = 0.498\\nsamples = 45\\nvalue = [21, 24]'),\n",
       " Text(574.909090909091, 190.26000000000005, 'X[2] <= -0.086\\ngini = 0.142\\nsamples = 26\\nvalue = [2, 24]'),\n",
       " Text(541.0909090909091, 135.90000000000003, 'X[0] <= -0.206\\ngini = 0.444\\nsamples = 6\\nvalue = [2, 4]'),\n",
       " Text(507.2727272727273, 81.54000000000002, 'gini = 0.0\\nsamples = 4\\nvalue = [0, 4]'),\n",
       " Text(574.909090909091, 81.54000000000002, 'gini = 0.0\\nsamples = 2\\nvalue = [2, 0]'),\n",
       " Text(608.7272727272727, 135.90000000000003, 'gini = 0.0\\nsamples = 20\\nvalue = [0, 20]'),\n",
       " Text(642.5454545454546, 190.26000000000005, 'gini = 0.0\\nsamples = 19\\nvalue = [19, 0]'),\n",
       " Text(862.3636363636364, 353.34000000000003, 'X[2] <= 0.593\\ngini = 0.069\\nsamples = 872\\nvalue = [31, 841]'),\n",
       " Text(777.8181818181819, 298.98, 'X[0] <= 0.87\\ngini = 0.159\\nsamples = 333\\nvalue = [29, 304]'),\n",
       " Text(744.0, 244.62, 'X[0] <= 0.225\\ngini = 0.032\\nsamples = 309\\nvalue = [5, 304]'),\n",
       " Text(710.1818181818182, 190.26000000000005, 'gini = 0.0\\nsamples = 247\\nvalue = [0, 247]'),\n",
       " Text(777.8181818181819, 190.26000000000005, 'X[2] <= 0.08\\ngini = 0.148\\nsamples = 62\\nvalue = [5, 57]'),\n",
       " Text(744.0, 135.90000000000003, 'gini = 0.0\\nsamples = 2\\nvalue = [2, 0]'),\n",
       " Text(811.6363636363637, 135.90000000000003, 'X[2] <= 0.211\\ngini = 0.095\\nsamples = 60\\nvalue = [3, 57]'),\n",
       " Text(777.8181818181819, 81.54000000000002, 'X[0] <= 0.473\\ngini = 0.42\\nsamples = 10\\nvalue = [3, 7]'),\n",
       " Text(744.0, 27.180000000000064, 'gini = 0.0\\nsamples = 7\\nvalue = [0, 7]'),\n",
       " Text(811.6363636363637, 27.180000000000064, 'gini = 0.0\\nsamples = 3\\nvalue = [3, 0]'),\n",
       " Text(845.4545454545455, 81.54000000000002, 'gini = 0.0\\nsamples = 50\\nvalue = [0, 50]'),\n",
       " Text(811.6363636363637, 244.62, 'gini = 0.0\\nsamples = 24\\nvalue = [24, 0]'),\n",
       " Text(946.909090909091, 298.98, 'X[1] <= -1.284\\ngini = 0.007\\nsamples = 539\\nvalue = [2, 537]'),\n",
       " Text(879.2727272727274, 244.62, 'X[2] <= 0.694\\ngini = 0.18\\nsamples = 10\\nvalue = [1, 9]'),\n",
       " Text(845.4545454545455, 190.26000000000005, 'gini = 0.0\\nsamples = 1\\nvalue = [1, 0]'),\n",
       " Text(913.0909090909091, 190.26000000000005, 'gini = 0.0\\nsamples = 9\\nvalue = [0, 9]'),\n",
       " Text(1014.5454545454546, 244.62, 'X[0] <= 1.686\\ngini = 0.004\\nsamples = 529\\nvalue = [1, 528]'),\n",
       " Text(980.7272727272727, 190.26000000000005, 'gini = 0.0\\nsamples = 518\\nvalue = [0, 518]'),\n",
       " Text(1048.3636363636365, 190.26000000000005, 'X[1] <= -1.046\\ngini = 0.165\\nsamples = 11\\nvalue = [1, 10]'),\n",
       " Text(1014.5454545454546, 135.90000000000003, 'gini = 0.0\\nsamples = 1\\nvalue = [1, 0]'),\n",
       " Text(1082.1818181818182, 135.90000000000003, 'gini = 0.0\\nsamples = 10\\nvalue = [0, 10]'),\n",
       " Text(1048.3636363636365, 462.06000000000006, 'X[1] <= 0.005\\ngini = 0.007\\nsamples = 878\\nvalue = [875, 3]'),\n",
       " Text(1014.5454545454546, 407.70000000000005, 'X[2] <= -0.729\\ngini = 0.42\\nsamples = 10\\nvalue = [7, 3]'),\n",
       " Text(980.7272727272727, 353.34000000000003, 'gini = 0.0\\nsamples = 6\\nvalue = [6, 0]'),\n",
       " Text(1048.3636363636365, 353.34000000000003, 'X[0] <= 0.427\\ngini = 0.375\\nsamples = 4\\nvalue = [1, 3]'),\n",
       " Text(1014.5454545454546, 298.98, 'gini = 0.0\\nsamples = 3\\nvalue = [0, 3]'),\n",
       " Text(1082.1818181818182, 298.98, 'gini = 0.0\\nsamples = 1\\nvalue = [1, 0]'),\n",
       " Text(1082.1818181818182, 407.70000000000005, 'gini = 0.0\\nsamples = 868\\nvalue = [868, 0]')]"
      ]
     },
     "execution_count": 146,
     "metadata": {},
     "output_type": "execute_result"
    },
    {
     "data": {
      "image/png": "[encoded data removed]",
      "text/plain": [
       "<Figure size 1440x720 with 1 Axes>"
      ]
     },
     "metadata": {
      "needs_background": "light"
     },
     "output_type": "display_data"
    }
   ],
   "source": [
    "import matplotlib.pyplot as plt\n",
    "\n",
    "plt.subplots(figsize=(20, 10))\n",
    "tree.plot_tree(modeltree, fontsize=10)\n"
   ]
  },
  {
   "cell_type": "markdown",
   "metadata": {},
   "source": [
    "# Random forest"
   ]
  },
  {
   "cell_type": "code",
   "execution_count": 29,
   "metadata": {},
   "outputs": [],
   "source": [
    "from sklearn.ensemble import RandomForestClassifier"
   ]
  },
  {
   "cell_type": "code",
   "execution_count": 161,
   "metadata": {},
   "outputs": [],
   "source": [
    "modelforest = RandomForestClassifier(max_depth=10, min_samples_split = 4)"
   ]
  },
  {
   "cell_type": "code",
   "execution_count": 162,
   "metadata": {},
   "outputs": [
    {
     "name": "stderr",
     "output_type": "stream",
     "text": [
      "C:\\Users\\Wu Yongyu\\anaconda3\\lib\\site-packages\\ipykernel_launcher.py:1: DataConversionWarning: A column-vector y was passed when a 1d array was expected. Please change the shape of y to (n_samples,), for example using ravel().\n",
      "  \"\"\"Entry point for launching an IPython kernel.\n"
     ]
    }
   ],
   "source": [
    "modelforest.fit(X_train, Y_train)\n",
    "pred_rf = modelforest.predict(X_train)"
   ]
  },
  {
   "cell_type": "code",
   "execution_count": 163,
   "metadata": {},
   "outputs": [
    {
     "name": "stdout",
     "output_type": "stream",
     "text": [
      "[[1202    2]\n",
      " [   0 1193]]\n",
      "0.999165623696287\n"
     ]
    }
   ],
   "source": [
    "from sklearn.metrics import confusion_matrix\n",
    "cm = confusion_matrix(Y_train, pred_rf)\n",
    "print(cm)\n",
    "accuracy = (cm[0,0] + cm[1,1])/sum(sum(cm))\n",
    "print(accuracy)\n",
    "\n",
    "#accuracy = 0.999165623696287"
   ]
  },
  {
   "cell_type": "markdown",
   "metadata": {},
   "source": [
    "# XG boost"
   ]
  },
  {
   "cell_type": "code",
   "execution_count": 164,
   "metadata": {
    "scrolled": false
   },
   "outputs": [
    {
     "name": "stderr",
     "output_type": "stream",
     "text": [
      "C:\\Users\\Wu Yongyu\\anaconda3\\lib\\site-packages\\sklearn\\ensemble\\_gb.py:1454: DataConversionWarning: A column-vector y was passed when a 1d array was expected. Please change the shape of y to (n_samples, ), for example using ravel().\n",
      "  y = column_or_1d(y, warn=True)\n"
     ]
    },
    {
     "name": "stdout",
     "output_type": "stream",
     "text": [
      "[[1204    0]\n",
      " [   0 1193]]\n",
      "1.0\n",
      "[[505   2]\n",
      " [  3 518]]\n",
      "0.995136186770428\n"
     ]
    }
   ],
   "source": [
    "from sklearn.ensemble import GradientBoostingClassifier\n",
    "model = GradientBoostingClassifier(max_depth=10, min_samples_split = 4)\n",
    "model.fit(X_train, Y_train)\n",
    "pred = model.predict(X_train)\n",
    "\n",
    "from sklearn.metrics import confusion_matrix\n",
    "cm = confusion_matrix(Y_train, pred)\n",
    "print(cm)\n",
    "accuracy = (cm[0,0] + cm[1,1])/sum(sum(cm))\n",
    "print(accuracy)\n",
    "\n",
    "pred = model.predict(X_test)\n",
    "cm = confusion_matrix(Y_test, pred)\n",
    "print(cm)\n",
    "accuracy = (cm[0,0] + cm[1,1])/sum(sum(cm))\n",
    "print(accuracy)\n",
    "\n",
    "#accuracy = 0.995136186770428"
   ]
  },
  {
   "cell_type": "markdown",
   "metadata": {},
   "source": [
    "#### The highest accuracy is obtained from the random forest classifier model"
   ]
  },
  {
   "cell_type": "markdown",
   "metadata": {},
   "source": [
    "# MLP"
   ]
  },
  {
   "cell_type": "code",
   "execution_count": 33,
   "metadata": {},
   "outputs": [],
   "source": [
    "from sklearn.neural_network import MLPClassifier"
   ]
  },
  {
   "cell_type": "code",
   "execution_count": 34,
   "metadata": {},
   "outputs": [],
   "source": [
    "model = MLPClassifier(solver='lbfgs', hidden_layer_sizes=(6,2))"
   ]
  },
  {
   "cell_type": "code",
   "execution_count": 35,
   "metadata": {},
   "outputs": [
    {
     "name": "stderr",
     "output_type": "stream",
     "text": [
      "C:\\Users\\Wu Yongyu\\anaconda3\\lib\\site-packages\\sklearn\\neural_network\\_multilayer_perceptron.py:934: DataConversionWarning: A column-vector y was passed when a 1d array was expected. Please change the shape of y to (n_samples, ), for example using ravel().\n",
      "  y = column_or_1d(y, warn=True)\n"
     ]
    },
    {
     "data": {
      "text/plain": [
       "MLPClassifier(activation='relu', alpha=0.0001, batch_size='auto', beta_1=0.9,\n",
       "              beta_2=0.999, early_stopping=False, epsilon=1e-08,\n",
       "              hidden_layer_sizes=(6, 2), learning_rate='constant',\n",
       "              learning_rate_init=0.001, max_fun=15000, max_iter=200,\n",
       "              momentum=0.9, n_iter_no_change=10, nesterovs_momentum=True,\n",
       "              power_t=0.5, random_state=None, shuffle=True, solver='lbfgs',\n",
       "              tol=0.0001, validation_fraction=0.1, verbose=False,\n",
       "              warm_start=False)"
      ]
     },
     "execution_count": 35,
     "metadata": {},
     "output_type": "execute_result"
    }
   ],
   "source": [
    "model.fit(X_train, Y_train)"
   ]
  },
  {
   "cell_type": "code",
   "execution_count": 36,
   "metadata": {},
   "outputs": [],
   "source": [
    "pred = model.predict(X_test)"
   ]
  },
  {
   "cell_type": "code",
   "execution_count": 37,
   "metadata": {
    "scrolled": true
   },
   "outputs": [
    {
     "name": "stdout",
     "output_type": "stream",
     "text": [
      "[[504   1]\n",
      " [  3 520]]\n",
      "0.9961089494163424\n"
     ]
    }
   ],
   "source": [
    "cm = confusion_matrix(Y_test,pred)\n",
    "print(cm)\n",
    "accuracy = (cm[0,0] + cm[1,1])/sum(sum(cm))\n",
    "print(accuracy)\n",
    "\n",
    "#accuracy = 0.867704280155642"
   ]
  },
  {
   "cell_type": "code",
   "execution_count": 38,
   "metadata": {},
   "outputs": [
    {
     "data": {
      "text/plain": [
       "['CreditCardDefault']"
      ]
     },
     "execution_count": 38,
     "metadata": {},
     "output_type": "execute_result"
    }
   ],
   "source": [
    "import joblib\n",
    "joblib.dump(model, \"CreditCardDefault\")"
   ]
  },
  {
   "cell_type": "code",
   "execution_count": null,
   "metadata": {},
   "outputs": [],
   "source": []
  }
 ],
 "metadata": {
  "kernelspec": {
   "display_name": "Python 3",
   "language": "python",
   "name": "python3"
  },
  "language_info": {
   "codemirror_mode": {
    "name": "ipython",
    "version": 3
   },
   "file_extension": ".py",
   "mimetype": "text/x-python",
   "name": "python",
   "nbconvert_exporter": "python",
   "pygments_lexer": "ipython3",
   "version": "3.7.6"
  }
 },
 "nbformat": 4,
 "nbformat_minor": 4
}
